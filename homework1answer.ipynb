{
  "nbformat": 4,
  "nbformat_minor": 0,
  "metadata": {
    "celltoolbar": "Slideshow",
    "kernelspec": {
      "display_name": "Python 3",
      "language": "python",
      "name": "python3"
    },
    "language_info": {
      "codemirror_mode": {
        "name": "ipython",
        "version": 3
      },
      "file_extension": ".py",
      "mimetype": "text/x-python",
      "name": "python",
      "nbconvert_exporter": "python",
      "pygments_lexer": "ipython3",
      "version": "3.9.5"
    },
    "colab": {
      "name": "homework1.ipynb",
      "provenance": [],
      "collapsed_sections": []
    },
    "accelerator": "GPU"
  },
  "cells": [
    {
      "cell_type": "markdown",
      "metadata": {
        "id": "qDiGhFBNsp8F"
      },
      "source": [
        "# Homework 1 - Berkeley STAT 157\n",
        "\n",
        "Handout 1/22/2017, due 1/29/2017 by 4pm in Git by committing to your repository. Please ensure that you add the TA Git account to your repository.\n",
        "\n",
        "1. Write all code in the notebook.\n",
        "1. Write all text in the notebook. You can use MathJax to insert math or generic Markdown to insert figures (it's unlikely you'll need the latter). \n",
        "1. **Execute** the notebook and **save** the results.\n",
        "1. To be safe, print the notebook as PDF and add it to the repository, too. Your repository should contain two files: ``homework1.ipynb`` and ``homework1.pdf``. \n",
        "\n",
        "The TA will return the corrected and annotated homework back to you via Git (please give `rythei` access to your repository)."
      ]
    },
    {
      "cell_type": "code",
      "metadata": {
        "id": "qXgEaKmoOxq6"
      },
      "source": [
        "import numpy as np\n",
        "import torch\n",
        "import time\n"
      ],
      "execution_count": null,
      "outputs": []
    },
    {
      "cell_type": "markdown",
      "metadata": {
        "id": "HeNlXW97sp8H"
      },
      "source": [
        "## 1. Speedtest for vectorization\n",
        "\n",
        "Your goal is to measure the speed of linear algebra operations for different levels of vectorization. You need to use `wait_to_read()` on the output to ensure that the result is computed completely, since NDArray uses asynchronous computation. Please see http://beta.mxnet.io/api/ndarray/_autogen/mxnet.ndarray.NDArray.wait_to_read.html for details. \n",
        "\n",
        "1. Construct two matrices $A$ and $B$ with Gaussian random entries of size $4096 \\times 4096$. \n",
        "1. Compute $C = A B$ using matrix-matrix operations and report the time. \n",
        "1. Compute $C = A B$, treating $A$ as a matrix but computing the result for each column of $B$ one at a time. Report the time.\n",
        "1. Compute $C = A B$, treating $A$ and $B$ as collections of vectors. Report the time.\n",
        "1. Bonus question - what changes if you execute this on a GPU?"
      ]
    },
    {
      "cell_type": "code",
      "metadata": {
        "colab": {
          "base_uri": "https://localhost:8080/"
        },
        "id": "qjp83qYIsp8I",
        "outputId": "344c69ff-5b19-4708-d0d3-c54221fd6c38"
      },
      "source": [
        "A=torch.randn(4096, 4096)\n",
        "B=torch.randn(4096, 4096)\n",
        "\n",
        "start_time=time.time()\n",
        "C1=torch.mm(A,B)\n",
        "print(time.time()-start_time)\n"
      ],
      "execution_count": null,
      "outputs": [
        {
          "output_type": "stream",
          "text": [
            "1.6290855407714844\n"
          ],
          "name": "stdout"
        }
      ]
    },
    {
      "cell_type": "markdown",
      "metadata": {
        "id": "G7kE3thhRHrQ"
      },
      "source": [
        ""
      ]
    },
    {
      "cell_type": "code",
      "metadata": {
        "colab": {
          "base_uri": "https://localhost:8080/"
        },
        "id": "V4nx1XuzQmkl",
        "outputId": "455f5d8c-e6d1-4792-c73a-b0be40565ce5"
      },
      "source": [
        "C2=torch.zeros_like(A)\n",
        "start_time=time.time()\n",
        "for i in range(4096):\n",
        "  C2[:,i]=torch.mv(A,B[:,i])\n",
        "print(time.time()-start_time)"
      ],
      "execution_count": null,
      "outputs": [
        {
          "output_type": "stream",
          "text": [
            "21.87451720237732\n"
          ],
          "name": "stdout"
        }
      ]
    },
    {
      "cell_type": "code",
      "metadata": {
        "id": "NyHsGYWsSNFk"
      },
      "source": [
        "C3=torch.zeros_like(A)\n",
        "start_time=time.time()\n",
        "for i in range(4096):\n",
        "  for j in range(4096):\n",
        "    C3[i,i]=torch.dot(A[i,:],B[:,j])\n",
        "print(time.time()-start_time)"
      ],
      "execution_count": null,
      "outputs": []
    },
    {
      "cell_type": "markdown",
      "metadata": {
        "id": "hJ7rut86sp8I"
      },
      "source": [
        "## 2. Semidefinite Matrices\n",
        "\n",
        "Assume that $A \\in \\mathbb{R}^{m \\times n}$ is an arbitrary matrix and that $D \\in \\mathbb{R}^{n \\times n}$ is a diagonal matrix with nonnegative entries. \n",
        "\n",
        "1. Prove that $B = A D A^\\top$ is a positive semidefinite matrix. \n",
        "1. When would it be useful to work with $B$ and when is it better to use $A$ and $D$?"
      ]
    },
    {
      "cell_type": "markdown",
      "metadata": {
        "id": "3SeV4D4iTNzN"
      },
      "source": [
        ""
      ]
    },
    {
      "cell_type": "markdown",
      "metadata": {
        "id": "MdTA4TTMsp8K"
      },
      "source": [
        "## 3. MXNet on GPUs\n",
        "\n",
        "1. Install GPU drivers (if needed)\n",
        "1. Install MXNet on a GPU instance\n",
        "1. Display `!nvidia-smi`\n",
        "1. Create a $2 \\times 2$ matrix on the GPU and print it. See http://d2l.ai/chapter_deep-learning-computation/use-gpu.html for details."
      ]
    },
    {
      "cell_type": "code",
      "metadata": {
        "colab": {
          "base_uri": "https://localhost:8080/"
        },
        "id": "8T61yo2bsp8K",
        "outputId": "e2e4501c-7dd1-4819-d979-a1f909087a43"
      },
      "source": [
        "!nvidia-smi"
      ],
      "execution_count": null,
      "outputs": [
        {
          "output_type": "stream",
          "text": [
            "Mon Jun 21 06:42:16 2021       \n",
            "+-----------------------------------------------------------------------------+\n",
            "| NVIDIA-SMI 465.27       Driver Version: 460.32.03    CUDA Version: 11.2     |\n",
            "|-------------------------------+----------------------+----------------------+\n",
            "| GPU  Name        Persistence-M| Bus-Id        Disp.A | Volatile Uncorr. ECC |\n",
            "| Fan  Temp  Perf  Pwr:Usage/Cap|         Memory-Usage | GPU-Util  Compute M. |\n",
            "|                               |                      |               MIG M. |\n",
            "|===============================+======================+======================|\n",
            "|   0  Tesla T4            Off  | 00000000:00:04.0 Off |                    0 |\n",
            "| N/A   39C    P8     9W /  70W |      0MiB / 15109MiB |      0%      Default |\n",
            "|                               |                      |                  N/A |\n",
            "+-------------------------------+----------------------+----------------------+\n",
            "                                                                               \n",
            "+-----------------------------------------------------------------------------+\n",
            "| Processes:                                                                  |\n",
            "|  GPU   GI   CI        PID   Type   Process name                  GPU Memory |\n",
            "|        ID   ID                                                   Usage      |\n",
            "|=============================================================================|\n",
            "|  No running processes found                                                 |\n",
            "+-----------------------------------------------------------------------------+\n"
          ],
          "name": "stdout"
        }
      ]
    },
    {
      "cell_type": "code",
      "metadata": {
        "colab": {
          "base_uri": "https://localhost:8080/"
        },
        "id": "Wdz4UlrfUADK",
        "outputId": "7cbec7e6-b3ed-4f1d-d3d3-6335d74e22e8"
      },
      "source": [
        "X = torch.ones(2, 3, device='cuda:0')\n",
        "X\n",
        "torch.cuda.device_count()"
      ],
      "execution_count": null,
      "outputs": [
        {
          "output_type": "execute_result",
          "data": {
            "text/plain": [
              "1"
            ]
          },
          "metadata": {
            "tags": []
          },
          "execution_count": 13
        }
      ]
    },
    {
      "cell_type": "markdown",
      "metadata": {
        "id": "ZBW53CTKsp8L"
      },
      "source": [
        "## 4. NDArray and NumPy \n",
        "\n",
        "Your goal is to measure the speed penalty between MXNet Gluon and Python when converting data between both. We are going to do this as follows:\n",
        "\n",
        "1. Create two Gaussian random matrices $A, B$ of size $4096 \\times 4096$ in NDArray. \n",
        "1. Compute a vector $\\mathbf{c} \\in \\mathbb{R}^{4096}$ where $c_i = \\|A B_{i\\cdot}\\|^2$ where $\\mathbf{c}$ is a **NumPy** vector.\n",
        "\n",
        "To see the difference in speed due to Python perform the following two experiments and measure the time:\n",
        "\n",
        "1. Compute $\\|A B_{i\\cdot}\\|^2$ one at a time and assign its outcome to $\\mathbf{c}_i$ directly.\n",
        "1. Use an intermediate storage vector $\\mathbf{d}$ in NDArray for assignments and copy to NumPy at the end."
      ]
    },
    {
      "cell_type": "code",
      "metadata": {
        "colab": {
          "base_uri": "https://localhost:8080/"
        },
        "id": "TQ5S8fgasp8L",
        "outputId": "f607fea2-16ad-4507-d286-9456f6198599"
      },
      "source": [
        "\n",
        "A=torch.randn(4096, 4096)\n",
        "B=torch.randn(4096, 4096)\n",
        "\n",
        "c1=np.zeros(4096)\n",
        "start_time=time.time()\n",
        "for i in range(4096):\n",
        "    c1[i]=(torch.norm(torch.mv(A,B[:,i])))**2\n",
        "print(time.time()-start_time)"
      ],
      "execution_count": null,
      "outputs": [
        {
          "output_type": "stream",
          "text": [
            "21.715687036514282\n"
          ],
          "name": "stdout"
        }
      ]
    },
    {
      "cell_type": "code",
      "metadata": {
        "colab": {
          "base_uri": "https://localhost:8080/"
        },
        "id": "Wl-lpR_jWfz0",
        "outputId": "60ce837b-96cd-441f-b63e-50ad015169c5"
      },
      "source": [
        "d=torch.zeros(4096)\n",
        "start_time=time.time()\n",
        "for i in range(4096):\n",
        "    d[i]=(torch.norm(torch.mv(A,B[:,i])))**2\n",
        "c2=d.numpy\n",
        "print(time.time()-start_time)"
      ],
      "execution_count": null,
      "outputs": [
        {
          "output_type": "stream",
          "text": [
            "21.706103324890137\n"
          ],
          "name": "stdout"
        }
      ]
    },
    {
      "cell_type": "markdown",
      "metadata": {
        "id": "VDkrMiDUsp8L"
      },
      "source": [
        "## 5. Memory efficient computation\n",
        "\n",
        "We want to compute $C \\leftarrow A \\cdot B + C$, where $A, B$ and $C$ are all matrices. Implement this in the most memory efficient manner. Pay attention to the following two things:\n",
        "\n",
        "1. Do not allocate new memory for the new value of $C$.\n",
        "1. Do not allocate new memory for intermediate results if possible."
      ]
    },
    {
      "cell_type": "code",
      "metadata": {
        "colab": {
          "base_uri": "https://localhost:8080/"
        },
        "id": "6oMC_P4Ysp8M",
        "outputId": "89df0d3b-8ca1-42af-db1a-d84102787501"
      },
      "source": [
        "\n",
        "A=torch.randn(100, 100)\n",
        "B=torch.randn(100, 100)\n",
        "C=torch.randn(100, 100)\n",
        "\n",
        "before=id(C)\n",
        "C+=torch.mm(A,B)\n",
        "id(C)==before\n",
        "C"
      ],
      "execution_count": null,
      "outputs": [
        {
          "output_type": "execute_result",
          "data": {
            "text/plain": [
              "tensor([[ -8.6098,   2.4111,   9.8159,  ...,   2.9815,   8.0476, -12.3791],\n",
              "        [ -4.1424,  -9.8955,   9.0422,  ...,  -6.2098,  10.5725,   1.8603],\n",
              "        [  5.5484,  -4.0713,  -3.2330,  ...,  -2.4263,   1.5679,  -3.2859],\n",
              "        ...,\n",
              "        [-11.2820,  16.7010,   5.1281,  ...,  -7.5853,  13.2953, -27.5719],\n",
              "        [ 13.7232,  -1.3100,  -0.2509,  ...,   1.3982, -23.2251,   6.4915],\n",
              "        [-10.6417,   3.1863,  11.4934,  ...,  -8.0808,   8.7744, -13.8706]])"
            ]
          },
          "metadata": {
            "tags": []
          },
          "execution_count": 21
        }
      ]
    },
    {
      "cell_type": "markdown",
      "metadata": {
        "id": "Ade1TyePsp8M"
      },
      "source": [
        "## 6. Broadcast Operations\n",
        "\n",
        "In order to perform polynomial fitting we want to compute a design matrix $A$ with \n",
        "\n",
        "$$A_{ij} = x_i^j$$\n",
        "\n",
        "Our goal is to implement this **without a single for loop** entirely using vectorization and broadcast. Here $1 \\leq j \\leq 20$ and $x = \\{-10, -9.9, \\ldots 10\\}$. Implement code that generates such a matrix."
      ]
    },
    {
      "cell_type": "code",
      "metadata": {
        "colab": {
          "base_uri": "https://localhost:8080/",
          "height": 215
        },
        "id": "M6dtIXQBsp8M",
        "outputId": "45145b39-21ed-4330-d21c-34fdd13a98a9"
      },
      "source": [
        "import torch\n",
        "x=torch.arange(-10,10.1,0.1).reshape(201,1)\n",
        "j=torch.arange(1,21).reshape(1,20)\n",
        "print(x**j)\n"
      ],
      "execution_count": null,
      "outputs": [
        {
          "output_type": "error",
          "ename": "RuntimeError",
          "evalue": "ignored",
          "traceback": [
            "\u001b[0;31m---------------------------------------------------------------------------\u001b[0m",
            "\u001b[0;31mRuntimeError\u001b[0m                              Traceback (most recent call last)",
            "\u001b[0;32m<ipython-input-3-802fa391020d>\u001b[0m in \u001b[0;36m<module>\u001b[0;34m()\u001b[0m\n\u001b[1;32m      1\u001b[0m \u001b[0;32mimport\u001b[0m \u001b[0mtorch\u001b[0m\u001b[0;34m\u001b[0m\u001b[0;34m\u001b[0m\u001b[0m\n\u001b[1;32m      2\u001b[0m \u001b[0mx\u001b[0m\u001b[0;34m=\u001b[0m\u001b[0mtorch\u001b[0m\u001b[0;34m.\u001b[0m\u001b[0marange\u001b[0m\u001b[0;34m(\u001b[0m\u001b[0;34m-\u001b[0m\u001b[0;36m10\u001b[0m\u001b[0;34m,\u001b[0m\u001b[0;36m10.1\u001b[0m\u001b[0;34m,\u001b[0m\u001b[0;36m0.1\u001b[0m\u001b[0;34m)\u001b[0m\u001b[0;34m.\u001b[0m\u001b[0mreshape\u001b[0m\u001b[0;34m(\u001b[0m\u001b[0;36m201\u001b[0m\u001b[0;34m,\u001b[0m\u001b[0;36m1\u001b[0m\u001b[0;34m)\u001b[0m\u001b[0;34m\u001b[0m\u001b[0;34m\u001b[0m\u001b[0m\n\u001b[0;32m----> 3\u001b[0;31m \u001b[0mj\u001b[0m\u001b[0;34m=\u001b[0m\u001b[0mtorch\u001b[0m\u001b[0;34m.\u001b[0m\u001b[0marange\u001b[0m\u001b[0;34m(\u001b[0m\u001b[0;36m1\u001b[0m\u001b[0;34m,\u001b[0m\u001b[0;36m1\u001b[0m\u001b[0;34m,\u001b[0m\u001b[0;36m21\u001b[0m\u001b[0;34m)\u001b[0m\u001b[0;34m.\u001b[0m\u001b[0mreshape\u001b[0m\u001b[0;34m(\u001b[0m\u001b[0;36m1\u001b[0m\u001b[0;34m,\u001b[0m\u001b[0;36m20\u001b[0m\u001b[0;34m)\u001b[0m\u001b[0;34m\u001b[0m\u001b[0;34m\u001b[0m\u001b[0m\n\u001b[0m\u001b[1;32m      4\u001b[0m \u001b[0mprint\u001b[0m\u001b[0;34m(\u001b[0m\u001b[0mx\u001b[0m\u001b[0;34m**\u001b[0m\u001b[0mj\u001b[0m\u001b[0;34m)\u001b[0m\u001b[0;34m\u001b[0m\u001b[0;34m\u001b[0m\u001b[0m\n",
            "\u001b[0;31mRuntimeError\u001b[0m: shape '[1, 20]' is invalid for input of size 0"
          ]
        }
      ]
    }
  ]
}