{
  "nbformat": 4,
  "nbformat_minor": 0,
  "metadata": {
    "accelerator": "GPU",
    "anaconda-cloud": {},
    "colab": {
      "name": "homework2.ipynb",
      "provenance": []
    },
    "kernelspec": {
      "display_name": "Python 3",
      "name": "python3"
    },
    "language_info": {
      "name": "python"
    }
  },
  "cells": [
    {
      "cell_type": "markdown",
      "metadata": {
        "id": "83WID64bbYCA"
      },
      "source": [
        "# Homework 2 - Berkeley STAT 157\n",
        "\n",
        "Handout 1/29/2019, due 2/5/2019 by 4pm in Git by committing to your repository."
      ]
    },
    {
      "cell_type": "code",
      "metadata": {
        "collapsed": true,
        "id": "VV8DxY3CbYCE"
      },
      "source": [
        "import numpy as np\n",
        "import torch\n",
        "from matplotlib import pyplot as plt"
      ],
      "execution_count": 2,
      "outputs": []
    },
    {
      "cell_type": "markdown",
      "metadata": {
        "id": "oAT5Kf2TbYCE"
      },
      "source": [
        "# 1. Multinomial Sampling\n",
        "\n",
        "Implement a sampler from a discrete distribution from scratch, mimicking the function `mxnet.ndarray.random.multinomial`. Its arguments should be a vector of probabilities $p$. You can assume that the probabilities are normalized, i.e. tha they sum up to $1$. Make the call signature as follows:\n",
        "\n",
        "```\n",
        "samples = sampler(probs, shape) \n",
        "\n",
        "probs   : An ndarray vector of size n of nonnegative numbers summing up to 1\n",
        "shape   : A list of dimensions for the output\n",
        "samples : Samples from probs with shape matching shape\n",
        "```\n",
        "\n",
        "Hints:\n",
        "\n",
        "1. Use `mxnet.ndarray.random.uniform` to get a sample from $U[0,1]$.\n",
        "1. You can simplify things for `probs` by computing the cumulative sum over `probs`."
      ]
    },
    {
      "cell_type": "code",
      "metadata": {
        "colab": {
          "base_uri": "https://localhost:8080/"
        },
        "id": "CiorE-LHbYCF",
        "outputId": "25c89c77-91d0-445d-e36d-036d9723d984"
      },
      "source": [
        "import numpy as np\n",
        "import torch\n",
        "def sampler(probs, shape):\n",
        "    ## Add your codes here\n",
        "    size=np.prod(shape)\n",
        "    cum_probs=np.cumsum(probs)\n",
        "    samples=torch.tensor([np.argmax(np.random.uniform(0,1) < cum_probs) for i in range(size)])\n",
        "    return samples.reshape(shape)\n",
        "\n",
        "# a simple test\n",
        "sampler(torch.tensor([0.2, 0.3, 0.5]), (2,3))"
      ],
      "execution_count": 3,
      "outputs": [
        {
          "output_type": "execute_result",
          "data": {
            "text/plain": [
              "tensor([[2, 1, 1],\n",
              "        [2, 2, 1]])"
            ]
          },
          "metadata": {
            "tags": []
          },
          "execution_count": 3
        }
      ]
    },
    {
      "cell_type": "code",
      "metadata": {
        "colab": {
          "base_uri": "https://localhost:8080/"
        },
        "id": "sG-MBOVoc6ya",
        "outputId": "c776f283-2345-427e-afdf-ac4840378077"
      },
      "source": [
        "probs=[0.2, 0.3, 0.5]\n",
        "shape=(2,3)\n",
        "\n",
        "size=np.prod(shape)\n",
        "cum_probs=np.cumsum(probs)\n",
        "torch.tensor([np.argmax(np.random.uniform(0,1) < cum_probs) for i in range(size)]).reshape(shape)\n"
      ],
      "execution_count": 6,
      "outputs": [
        {
          "output_type": "execute_result",
          "data": {
            "text/plain": [
              "tensor([[2, 2, 2],\n",
              "        [0, 0, 2]])"
            ]
          },
          "metadata": {
            "tags": []
          },
          "execution_count": 6
        }
      ]
    },
    {
      "cell_type": "markdown",
      "metadata": {
        "id": "ecwT7pWFbYCH"
      },
      "source": [
        "# 2. Central Limit Theorem\n",
        "\n",
        "Let's explore the Central Limit Theorem when applied to text processing. \n",
        "\n",
        "* Download [https://www.gutenberg.org/ebooks/84](https://www.gutenberg.org/files/84/84-0.txt) from Project Gutenberg \n",
        "* Remove punctuation, uppercase / lowercase, and split the text up into individual tokens (words).\n",
        "* For the words `a`, `and`, `the`, `i`, `is` compute their respective counts as the book progresses, i.e. \n",
        "    $$n_\\mathrm{the}[i] = \\sum_{j = 1}^i \\{w_j = \\mathrm{the}\\}$$\n",
        "* Plot the proportions $n_\\mathrm{word}[i] / i$ over the document in one plot.\n",
        "* Find an envelope of the shape $O(1/\\sqrt{i})$ for each of these five words. (Hint, check the last page of the [sampling notebook](http://courses.d2l.ai/berkeley-stat-157/slides/1_24/sampling.pdf))\n",
        "* Why can we **not** apply the Central Limit Theorem directly? \n",
        "* How would we have to change the text for it to apply? \n",
        "* Why does it still work quite well?"
      ]
    },
    {
      "cell_type": "code",
      "metadata": {
        "id": "_ZULUKQ_pzeu"
      },
      "source": [
        "import urllib.request\n",
        "with urllib.request.urlopen('https://www.gutenberg.org/files/84/84-0.txt') as f:\n",
        "  book=f.read().decode('utf-8')"
      ],
      "execution_count": 7,
      "outputs": []
    },
    {
      "cell_type": "code",
      "metadata": {
        "colab": {
          "base_uri": "https://localhost:8080/"
        },
        "id": "smAYgOJprXRK",
        "outputId": "25d9fe65-1552-42a6-8c74-1d9a2055e875"
      },
      "source": [
        "book=book.lower()\n",
        "import re\n",
        "\n",
        "# book=re.sub(r'\\d+|_',' ',book)\n",
        "tokens=re.findall(r'\\w+',book)\n",
        "tokens[0:300]"
      ],
      "execution_count": 8,
      "outputs": [
        {
          "output_type": "execute_result",
          "data": {
            "text/plain": [
              "['the',\n",
              " 'project',\n",
              " 'gutenberg',\n",
              " 'ebook',\n",
              " 'of',\n",
              " 'frankenstein',\n",
              " 'by',\n",
              " 'mary',\n",
              " 'wollstonecraft',\n",
              " 'godwin',\n",
              " 'shelley',\n",
              " 'this',\n",
              " 'ebook',\n",
              " 'is',\n",
              " 'for',\n",
              " 'the',\n",
              " 'use',\n",
              " 'of',\n",
              " 'anyone',\n",
              " 'anywhere',\n",
              " 'in',\n",
              " 'the',\n",
              " 'united',\n",
              " 'states',\n",
              " 'and',\n",
              " 'most',\n",
              " 'other',\n",
              " 'parts',\n",
              " 'of',\n",
              " 'the',\n",
              " 'world',\n",
              " 'at',\n",
              " 'no',\n",
              " 'cost',\n",
              " 'and',\n",
              " 'with',\n",
              " 'almost',\n",
              " 'no',\n",
              " 'restrictions',\n",
              " 'whatsoever',\n",
              " 'you',\n",
              " 'may',\n",
              " 'copy',\n",
              " 'it',\n",
              " 'give',\n",
              " 'it',\n",
              " 'away',\n",
              " 'or',\n",
              " 're',\n",
              " 'use',\n",
              " 'it',\n",
              " 'under',\n",
              " 'the',\n",
              " 'terms',\n",
              " 'of',\n",
              " 'the',\n",
              " 'project',\n",
              " 'gutenberg',\n",
              " 'license',\n",
              " 'included',\n",
              " 'with',\n",
              " 'this',\n",
              " 'ebook',\n",
              " 'or',\n",
              " 'online',\n",
              " 'at',\n",
              " 'www',\n",
              " 'gutenberg',\n",
              " 'org',\n",
              " 'if',\n",
              " 'you',\n",
              " 'are',\n",
              " 'not',\n",
              " 'located',\n",
              " 'in',\n",
              " 'the',\n",
              " 'united',\n",
              " 'states',\n",
              " 'you',\n",
              " 'will',\n",
              " 'have',\n",
              " 'to',\n",
              " 'check',\n",
              " 'the',\n",
              " 'laws',\n",
              " 'of',\n",
              " 'the',\n",
              " 'country',\n",
              " 'where',\n",
              " 'you',\n",
              " 'are',\n",
              " 'located',\n",
              " 'before',\n",
              " 'using',\n",
              " 'this',\n",
              " 'ebook',\n",
              " 'title',\n",
              " 'frankenstein',\n",
              " 'or',\n",
              " 'the',\n",
              " 'modern',\n",
              " 'prometheus',\n",
              " 'author',\n",
              " 'mary',\n",
              " 'wollstonecraft',\n",
              " 'godwin',\n",
              " 'shelley',\n",
              " 'release',\n",
              " 'date',\n",
              " '31',\n",
              " '1993',\n",
              " 'ebook',\n",
              " '84',\n",
              " 'most',\n",
              " 'recently',\n",
              " 'updated',\n",
              " 'november',\n",
              " '13',\n",
              " '2020',\n",
              " 'language',\n",
              " 'english',\n",
              " 'character',\n",
              " 'set',\n",
              " 'encoding',\n",
              " 'utf',\n",
              " '8',\n",
              " 'produced',\n",
              " 'by',\n",
              " 'judith',\n",
              " 'boss',\n",
              " 'christy',\n",
              " 'phillips',\n",
              " 'lynn',\n",
              " 'hanninen',\n",
              " 'and',\n",
              " 'david',\n",
              " 'meltzer',\n",
              " 'html',\n",
              " 'version',\n",
              " 'by',\n",
              " 'al',\n",
              " 'haines',\n",
              " 'further',\n",
              " 'corrections',\n",
              " 'by',\n",
              " 'menno',\n",
              " 'de',\n",
              " 'leeuw',\n",
              " 'start',\n",
              " 'of',\n",
              " 'the',\n",
              " 'project',\n",
              " 'gutenberg',\n",
              " 'ebook',\n",
              " 'frankenstein',\n",
              " 'frankenstein',\n",
              " 'or',\n",
              " 'the',\n",
              " 'modern',\n",
              " 'prometheus',\n",
              " 'by',\n",
              " 'mary',\n",
              " 'wollstonecraft',\n",
              " 'godwin',\n",
              " 'shelley',\n",
              " 'contents',\n",
              " 'letter',\n",
              " '1',\n",
              " 'letter',\n",
              " '2',\n",
              " 'letter',\n",
              " '3',\n",
              " 'letter',\n",
              " '4',\n",
              " 'chapter',\n",
              " '1',\n",
              " 'chapter',\n",
              " '2',\n",
              " 'chapter',\n",
              " '3',\n",
              " 'chapter',\n",
              " '4',\n",
              " 'chapter',\n",
              " '5',\n",
              " 'chapter',\n",
              " '6',\n",
              " 'chapter',\n",
              " '7',\n",
              " 'chapter',\n",
              " '8',\n",
              " 'chapter',\n",
              " '9',\n",
              " 'chapter',\n",
              " '10',\n",
              " 'chapter',\n",
              " '11',\n",
              " 'chapter',\n",
              " '12',\n",
              " 'chapter',\n",
              " '13',\n",
              " 'chapter',\n",
              " '14',\n",
              " 'chapter',\n",
              " '15',\n",
              " 'chapter',\n",
              " '16',\n",
              " 'chapter',\n",
              " '17',\n",
              " 'chapter',\n",
              " '18',\n",
              " 'chapter',\n",
              " '19',\n",
              " 'chapter',\n",
              " '20',\n",
              " 'chapter',\n",
              " '21',\n",
              " 'chapter',\n",
              " '22',\n",
              " 'chapter',\n",
              " '23',\n",
              " 'chapter',\n",
              " '24',\n",
              " 'letter',\n",
              " '1',\n",
              " '_to',\n",
              " 'mrs',\n",
              " 'saville',\n",
              " 'england',\n",
              " '_',\n",
              " 'st',\n",
              " 'petersburgh',\n",
              " 'dec',\n",
              " '11th',\n",
              " '17',\n",
              " 'you',\n",
              " 'will',\n",
              " 'rejoice',\n",
              " 'to',\n",
              " 'hear',\n",
              " 'that',\n",
              " 'no',\n",
              " 'disaster',\n",
              " 'has',\n",
              " 'accompanied',\n",
              " 'the',\n",
              " 'commencement',\n",
              " 'of',\n",
              " 'an',\n",
              " 'enterprise',\n",
              " 'which',\n",
              " 'you',\n",
              " 'have',\n",
              " 'regarded',\n",
              " 'with',\n",
              " 'such',\n",
              " 'evil',\n",
              " 'forebodings',\n",
              " 'i',\n",
              " 'arrived',\n",
              " 'here',\n",
              " 'yesterday',\n",
              " 'and',\n",
              " 'my',\n",
              " 'first',\n",
              " 'task',\n",
              " 'is',\n",
              " 'to',\n",
              " 'assure',\n",
              " 'my',\n",
              " 'dear',\n",
              " 'sister',\n",
              " 'of',\n",
              " 'my',\n",
              " 'welfare',\n",
              " 'and',\n",
              " 'increasing',\n",
              " 'confidence',\n",
              " 'in',\n",
              " 'the',\n",
              " 'success',\n",
              " 'of',\n",
              " 'my',\n",
              " 'undertaking',\n",
              " 'i',\n",
              " 'am',\n",
              " 'already',\n",
              " 'far',\n",
              " 'north',\n",
              " 'of',\n",
              " 'london',\n",
              " 'and',\n",
              " 'as',\n",
              " 'i',\n",
              " 'walk',\n",
              " 'in',\n",
              " 'the',\n",
              " 'streets',\n",
              " 'of',\n",
              " 'petersburgh',\n",
              " 'i']"
            ]
          },
          "metadata": {
            "tags": []
          },
          "execution_count": 8
        }
      ]
    },
    {
      "cell_type": "code",
      "metadata": {
        "id": "roKjHsf_bYCI"
      },
      "source": [
        "words=[\"a\",\"and\",\"the\",\"i\",\"is\"]\n",
        "count=np.zeros((len(words),len(tokens)))\n",
        "for j in range(len(tokens)):\n",
        "  for i in range(len(words)):\n",
        "    count[i][j]=1.0*(words[i]==tokens[j])\n",
        "for i in range(len(words)):\n",
        "  count[i]=np.cumsum(count[i])\n",
        "x=np.arange(1,len(tokens)+1)\n",
        "propotions=count/x"
      ],
      "execution_count": 9,
      "outputs": []
    },
    {
      "cell_type": "code",
      "metadata": {
        "colab": {
          "base_uri": "https://localhost:8080/",
          "height": 324
        },
        "id": "2oLBlLy8o9m5",
        "outputId": "72fd14a9-db9b-4ce7-dc5a-f25c92cfdb71"
      },
      "source": [
        "plt.figure(figsize=(10,5))\n",
        "for i in range(len(words)):\n",
        "  plt.semilogx(x,propotions[i],label=words[i])\n",
        "plt.legend()\n",
        "plt.show()"
      ],
      "execution_count": 10,
      "outputs": [
        {
          "output_type": "display_data",
          "data": {
            "image/png": "[encoded data removed]",
            "text/plain": [
              "<Figure size 720x360 with 1 Axes>"
            ]
          },
          "metadata": {
            "tags": [],
            "needs_background": "light"
          }
        }
      ]
    },
    {
      "cell_type": "code",
      "metadata": {
        "colab": {
          "base_uri": "https://localhost:8080/",
          "height": 490
        },
        "id": "Gvg_4U1ZpXGX",
        "outputId": "2f3a32a8-cab5-4db8-a465-20c68f1cf210"
      },
      "source": [
        "fig=plt.figure(figsize=(16,8))\n",
        "for i in range(len(words)):\n",
        "  p=propotions[i][-1]\n",
        "  up=((p*(1-p))**0.5)*x**(-0.5)+p\n",
        "  low=-((p*(1-p))**0.5)*x**(-0.5)+p\n",
        "  fig.add_subplot(2,3,i+1)\n",
        "  plt.semilogx(x,propotions[i],label=words[i])\n",
        "  plt.semilogx(x,up,'r')\n",
        "  plt.semilogx(x,low,'r')\n",
        "  plt.legend()"
      ],
      "execution_count": 11,
      "outputs": [
        {
          "output_type": "display_data",
          "data": {
            "image/png": "[encoded data removed]",
            "text/plain": [
              "<Figure size 1152x576 with 5 Axes>"
            ]
          },
          "metadata": {
            "tags": [],
            "needs_background": "light"
          }
        }
      ]
    },
    {
      "cell_type": "markdown",
      "metadata": {
        "id": "WQEGIiQBbYCI"
      },
      "source": [
        "## 3. Denominator-layout notation\n",
        "\n",
        "We used the numerator-layout notation for matrix calculus in class, now let's examine the denominator-layout notation.\n",
        "\n",
        "Given $x, y\\in\\mathbb R$, $\\mathbf x\\in\\mathbb R^n$ and $\\mathbf y \\in \\mathbb R^m$, we have\n",
        "\n",
        "$$\n",
        "\\frac{\\partial y}{\\partial \\mathbf{x}}=\\begin{bmatrix}\n",
        "\\frac{\\partial y}{\\partial x_1}\\\\\n",
        "\\frac{\\partial y}{\\partial x_2}\\\\\n",
        "\\vdots\\\\\n",
        "\\frac{\\partial y}{\\partial x_n}\n",
        "\\end{bmatrix},\\quad \n",
        "\\frac{\\partial \\mathbf y}{\\partial {x}}=\\begin{bmatrix}\n",
        "\\frac{\\partial y_1}{\\partial x}, \n",
        "\\frac{\\partial y_2}{\\partial x}, \n",
        "\\ldots,\n",
        "\\frac{\\partial y_m}{\\partial x}\n",
        "\\end{bmatrix}\n",
        "$$\n",
        "\n",
        "and \n",
        "\n",
        "$$\n",
        "\\frac{\\partial \\mathbf y}{\\partial \\mathbf{x}}\n",
        "=\\begin{bmatrix}\n",
        "\\frac{\\partial \\mathbf y}{\\partial {x_1}}\\\\\n",
        "\\frac{\\partial \\mathbf y}{\\partial {x_2}}\\\\\n",
        "\\vdots\\\\\n",
        "\\frac{\\partial \\mathbf y}{\\partial {x_3}}\\\\\n",
        "\\end{bmatrix}\n",
        "=\\begin{bmatrix}\n",
        "\\frac{\\partial y_1}{\\partial x_1}, \n",
        "\\frac{\\partial y_2}{\\partial x_1},\n",
        "\\ldots,\n",
        "\\frac{\\partial y_m}{\\partial x_1}\n",
        "\\\\ \n",
        "\\frac{\\partial y_1}{\\partial x_2},\n",
        "\\frac{\\partial y_2}{\\partial x_2},\n",
        "\\ldots,\n",
        "\\frac{\\partial y_m}{\\partial x_2}\\\\ \n",
        "\\vdots\\\\\n",
        "\\frac{\\partial y_1}{\\partial x_n},\n",
        "\\frac{\\partial y_2}{\\partial x_n},\n",
        "\\ldots,\n",
        "\\frac{\\partial y_m}{\\partial x_n}\n",
        "\\end{bmatrix}\n",
        "$$\n",
        "\n",
        "Questions: \n",
        "\n",
        "1. Assume $\\mathbf  y = f(\\mathbf u)$ and $\\mathbf u = g(\\mathbf x)$, write down the chain rule for $\\frac {\\partial\\mathbf  y}{\\partial\\mathbf x}$\n",
        "2. Given $\\mathbf X \\in \\mathbb R^{m\\times n},\\ \\mathbf w \\in \\mathbb R^n, \\ \\mathbf y \\in \\mathbb R^m$, assume $z = \\| \\mathbf X \\mathbf w - \\mathbf y\\|^2$, compute $\\frac{\\partial z}{\\partial\\mathbf w}$."
      ]
    },
    {
      "cell_type": "markdown",
      "metadata": {
        "id": "xKMAgNs-bYCJ"
      },
      "source": [
        "## 4. Numerical Precision\n",
        "\n",
        "Given scalars `x` and `y`, implement the following `log_exp` function such that it returns \n",
        "$$-\\log\\left(\\frac{e^x}{e^x+e^y}\\right)$$."
      ]
    },
    {
      "cell_type": "code",
      "metadata": {
        "id": "tlAiYew8bYCJ"
      },
      "source": [
        "def log_exp(x, y):\n",
        "    ## add your solution here\n",
        "    return -torch.log(torch.exp(x)/(torch.exp(x)+torch.exp(y)))"
      ],
      "execution_count": 19,
      "outputs": []
    },
    {
      "cell_type": "markdown",
      "metadata": {
        "id": "Siy3NZFrbYCK"
      },
      "source": [
        "Test your codes with normal inputs:"
      ]
    },
    {
      "cell_type": "code",
      "metadata": {
        "colab": {
          "base_uri": "https://localhost:8080/"
        },
        "id": "p80V76uFbYCK",
        "outputId": "d96ae538-1005-4d17-ba44-a9c71ac282c7"
      },
      "source": [
        "x, y = torch.tensor([2.0]), torch.tensor([3.0])\n",
        "z = log_exp(x, y)\n",
        "z"
      ],
      "execution_count": 26,
      "outputs": [
        {
          "output_type": "execute_result",
          "data": {
            "text/plain": [
              "tensor([1.3133])"
            ]
          },
          "metadata": {
            "tags": []
          },
          "execution_count": 26
        }
      ]
    },
    {
      "cell_type": "markdown",
      "metadata": {
        "id": "ItPlR41WbYCL"
      },
      "source": [
        "Now implement a function to compute $\\partial z/\\partial x$ and $\\partial z/\\partial y$ with `autograd`"
      ]
    },
    {
      "cell_type": "code",
      "metadata": {
        "collapsed": true,
        "id": "AKviklq7bYCL"
      },
      "source": [
        "def grad(forward_func, x, y): \n",
        "    ## Add your codes here\n",
        "    x.requires_grad_(True)\n",
        "    y.requires_grad_(True)\n",
        "    z=forward_func(x,y)\n",
        "    z.backward\n",
        "    print('x.grad =', x.grad)\n",
        "    print('y.grad =', y.grad)"
      ],
      "execution_count": 27,
      "outputs": []
    },
    {
      "cell_type": "markdown",
      "metadata": {
        "id": "qfJuNFtZbYCL"
      },
      "source": [
        "Test your codes, it should print the results nicely. "
      ]
    },
    {
      "cell_type": "code",
      "metadata": {
        "id": "29sUNM-dbYCM"
      },
      "source": [
        "grad(log_exp, x, y)"
      ],
      "execution_count": null,
      "outputs": []
    },
    {
      "cell_type": "markdown",
      "metadata": {
        "id": "6GyAsEpTbYCN"
      },
      "source": [
        "But now let's try some \"hard\" inputs"
      ]
    },
    {
      "cell_type": "code",
      "metadata": {
        "id": "OLIJ6z3WbYCN"
      },
      "source": [
        "x, y = torch.tensor([50.0]), torch.tensor([100.0])\n",
        "grad(log_exp, x, y)"
      ],
      "execution_count": null,
      "outputs": []
    },
    {
      "cell_type": "markdown",
      "metadata": {
        "id": "5fUT6wtubYCO"
      },
      "source": [
        "Does your code return correct results? If not, try to understand the reason. (Hint, evaluate `exp(100)`). Now develop a new function `stable_log_exp` that is identical to `log_exp` in math, but returns a more numerical stable result."
      ]
    },
    {
      "cell_type": "code",
      "metadata": {
        "colab": {
          "base_uri": "https://localhost:8080/"
        },
        "id": "qQuLByPEbYCO",
        "outputId": "fa260e31-0959-497c-f6d6-d8763d1b0c15"
      },
      "source": [
        "torch.exp(torch.tensor([100.0]))"
      ],
      "execution_count": 25,
      "outputs": [
        {
          "output_type": "execute_result",
          "data": {
            "text/plain": [
              "tensor([inf])"
            ]
          },
          "metadata": {
            "tags": []
          },
          "execution_count": 25
        }
      ]
    },
    {
      "cell_type": "code",
      "metadata": {
        "id": "FdRpxOG1rGYb"
      },
      "source": [
        "x, y = torch.tensor([50.0]), torch.tensor([100.0])\n",
        "def stable_log_exp(x,y):\n",
        "  z=torch.max(x,y)\n",
        "  return -x+z+torch.log(torch.exp(x-z)+torch.exp(y-z))\n",
        "\n",
        "grad(stable_log_exp,x,y)"
      ],
      "execution_count": null,
      "outputs": []
    }
  ]
}