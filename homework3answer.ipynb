{
  "nbformat": 4,
  "nbformat_minor": 0,
  "metadata": {
    "anaconda-cloud": {},
    "kernelspec": {
      "display_name": "Python [default]",
      "language": "python",
      "name": "python3"
    },
    "language_info": {
      "codemirror_mode": {
        "name": "ipython",
        "version": 3
      },
      "file_extension": ".py",
      "mimetype": "text/x-python",
      "name": "python",
      "nbconvert_exporter": "python",
      "pygments_lexer": "ipython3",
      "version": "3.5.2"
    },
    "colab": {
      "name": "homework3.ipynb",
      "provenance": []
    }
  },
  "cells": [
    {
      "cell_type": "markdown",
      "metadata": {
        "id": "iolLIazsPQ4Q"
      },
      "source": [
        "# Homework 3 - Berkeley STAT 157\n",
        "\n",
        "Handout 2/5/2019, due 2/12/2019 by 4pm in Git by committing to your repository.\n",
        "\n",
        "**Formatting: please include both a .ipynb and .pdf file in your homework submission, named homework3.ipynb and homework3.pdf. You can export your notebook to a pdf either by File -> Download as -> PDF via Latex (you may need Latex installed), or by simply printing to a pdf from your browser (you may want to do File -> Print Preview in jupyter first). Please don't change the filename.**       "
      ]
    },
    {
      "cell_type": "code",
      "metadata": {
        "ExecuteTime": {
          "end_time": "2019-02-07T00:58:19.457771Z",
          "start_time": "2019-02-07T00:58:16.843106Z"
        },
        "collapsed": true,
        "id": "5Sz1VyHnPQ4R"
      },
      "source": [
        "import torch\n",
        "import numpy as np\n",
        "import matplotlib.pyplot as plt\n",
        "import torch.utils.data as Data\n",
        "from torch import nn"
      ],
      "execution_count": 4,
      "outputs": []
    },
    {
      "cell_type": "markdown",
      "metadata": {
        "id": "cleo7QhVPQ4S"
      },
      "source": [
        "# 1. Logistic Regression for Binary Classification\n",
        "\n",
        "In multiclass classification we typically use the exponential model \n",
        "\n",
        "$$p(y|\\mathbf{o}) = \\mathrm{softmax}(\\mathbf{o})_y = \\frac{\\exp(o_y)}{\\sum_{y'} \\exp(o_{y'})}$$\n",
        "\n",
        "1.1. Show that this parametrization has a spurious degree of freedom. That is, show that both $\\mathbf{o}$ and $\\mathbf{o} + c$ with $c \\in \\mathbb{R}$ lead to the same probability estimate.\n",
        "1.2. For binary classification, i.e. whenever we have only two classes $\\{-1, 1\\}$, we can arbitrarily set $o_{-1} = 0$. Using the shorthand $o = o_1$ show that this is equivalent to \n",
        "\n",
        "$$p(y=1|o) = \\frac{1}{1 + \\exp(-o)}$$\n",
        "\n",
        "1.3. Show that the log-likelihood loss (often called logistic loss) for labels $y \\in \\{-1, 1\\}$ is thus given by \n",
        "\n",
        "$$-\\log p(y|o) = \\log (1 + \\exp(-y \\cdot o))$$\n",
        "\n",
        "1.4. Show that for $y = 1$ the logistic loss asymptotes to $o$ for $o \\to \\infty$ and to $\\exp(o)$ for $o \\to -\\infty$. "
      ]
    },
    {
      "cell_type": "markdown",
      "metadata": {
        "id": "9RwO0N2pPQ4T"
      },
      "source": [
        "# 2. Logistic Regression and Autograd\n",
        "\n",
        "1. Implement the binary logistic loss $l(y,o) = \\log (1 + \\exp(-y \\cdot o))$ in Gluon\n",
        "1. Plot its values for $y \\in \\{-1, 1\\}$ over the range of $o \\in [-5, 5]$.\n",
        "1. Plot its derivative with respect to $o$ for $o \\in [-5, 5]$ using 'autograd'."
      ]
    },
    {
      "cell_type": "code",
      "metadata": {
        "ExecuteTime": {
          "end_time": "2019-02-07T00:58:19.464756Z",
          "start_time": "2019-02-07T00:58:19.459943Z"
        },
        "collapsed": true,
        "id": "_oVVtZjrPQ4T"
      },
      "source": [
        "def loss(y,o):\n",
        "    ## add your loss function here\n",
        "    o.requires_grad_(True)\n",
        "    loss=torch.log(1+torch.exp(-y*o))\n",
        "    s=torch.sum(loss)\n",
        "    s.backward()\n",
        "    return loss"
      ],
      "execution_count": 5,
      "outputs": []
    },
    {
      "cell_type": "code",
      "metadata": {
        "colab": {
          "base_uri": "https://localhost:8080/"
        },
        "id": "03HRY0jlycB8",
        "outputId": "9641af21-12c4-47ab-d130-e571134da81a"
      },
      "source": [
        "o=torch.tensor(np.linspace(-5,5,100))\n",
        "o"
      ],
      "execution_count": 6,
      "outputs": [
        {
          "output_type": "execute_result",
          "data": {
            "text/plain": [
              "tensor([-5.0000, -4.8990, -4.7980, -4.6970, -4.5960, -4.4949, -4.3939, -4.2929,\n",
              "        -4.1919, -4.0909, -3.9899, -3.8889, -3.7879, -3.6869, -3.5859, -3.4848,\n",
              "        -3.3838, -3.2828, -3.1818, -3.0808, -2.9798, -2.8788, -2.7778, -2.6768,\n",
              "        -2.5758, -2.4747, -2.3737, -2.2727, -2.1717, -2.0707, -1.9697, -1.8687,\n",
              "        -1.7677, -1.6667, -1.5657, -1.4646, -1.3636, -1.2626, -1.1616, -1.0606,\n",
              "        -0.9596, -0.8586, -0.7576, -0.6566, -0.5556, -0.4545, -0.3535, -0.2525,\n",
              "        -0.1515, -0.0505,  0.0505,  0.1515,  0.2525,  0.3535,  0.4545,  0.5556,\n",
              "         0.6566,  0.7576,  0.8586,  0.9596,  1.0606,  1.1616,  1.2626,  1.3636,\n",
              "         1.4646,  1.5657,  1.6667,  1.7677,  1.8687,  1.9697,  2.0707,  2.1717,\n",
              "         2.2727,  2.3737,  2.4747,  2.5758,  2.6768,  2.7778,  2.8788,  2.9798,\n",
              "         3.0808,  3.1818,  3.2828,  3.3838,  3.4848,  3.5859,  3.6869,  3.7879,\n",
              "         3.8889,  3.9899,  4.0909,  4.1919,  4.2929,  4.3939,  4.4949,  4.5960,\n",
              "         4.6970,  4.7980,  4.8990,  5.0000], dtype=torch.float64)"
            ]
          },
          "metadata": {
            "tags": []
          },
          "execution_count": 6
        }
      ]
    },
    {
      "cell_type": "code",
      "metadata": {
        "id": "tyl0LeGryqlv",
        "colab": {
          "base_uri": "https://localhost:8080/",
          "height": 281
        },
        "outputId": "34bec076-c57d-426b-c731-487a4b1e9536"
      },
      "source": [
        "plt.title(\"logistic loss\")\n",
        "plt.plot(o.detach().numpy(),loss(1.0,o).detach().numpy(),color='g',label=\"$y=1$\")\n",
        "diff_1=o.grad.numpy()\n",
        "plt.plot(o.detach().numpy(),loss(-1.0,o).detach().numpy(),color='b',label=\"$y=-1$\")\n",
        "diff_minus_1=o.grad.numpy()\n",
        "plt.legend()\n",
        "plt.show()\n"
      ],
      "execution_count": 9,
      "outputs": [
        {
          "output_type": "display_data",
          "data": {
            "image/png": "[encoded data removed]",
            "text/plain": [
              "<Figure size 432x288 with 1 Axes>"
            ]
          },
          "metadata": {
            "tags": [],
            "needs_background": "light"
          }
        }
      ]
    },
    {
      "cell_type": "code",
      "metadata": {
        "colab": {
          "base_uri": "https://localhost:8080/",
          "height": 281
        },
        "id": "h18U3Zy70JuT",
        "outputId": "c944dd31-07d8-403d-b014-d20719460cb8"
      },
      "source": [
        "plt.title(\"logistic loss derivative\")\n",
        "o=torch.tensor(np.linspace(-5,5,100))\n",
        "loss(1.0,o)\n",
        "diff_1=o.grad.numpy()\n",
        "plt.plot(o.detach().numpy(),diff_1,color='g',label=\"$y=1$\")\n",
        "o=torch.tensor(np.linspace(-5,5,100))\n",
        "loss(-1.0,o)\n",
        "diff_minus_1=o.grad.numpy()\n",
        "plt.plot(o.detach().numpy(),diff_minus_1,color='b',label=\"$y=-1$\")\n",
        "plt.legend()\n",
        "plt.show()"
      ],
      "execution_count": 10,
      "outputs": [
        {
          "output_type": "display_data",
          "data": {
            "image/png": "[encoded data removed]",
            "text/plain": [
              "<Figure size 432x288 with 1 Axes>"
            ]
          },
          "metadata": {
            "tags": [],
            "needs_background": "light"
          }
        }
      ]
    },
    {
      "cell_type": "markdown",
      "metadata": {
        "id": "TDl0NC46PQ4T"
      },
      "source": [
        "# 3. Ohm's Law\n",
        "\n",
        "Imagine that you're a young physicist, maybe named [Georg Simon Ohm](https://en.wikipedia.org/wiki/Georg_Ohm), trying to figure out how current and voltage depend on each other for resistors. You have some idea but you aren't quite sure yet whether the dependence is linear or quadratic. So you take some measurements, conveniently given to you as 'ndarrays' in Python. They are indicated by 'current' and 'voltage'.\n",
        "\n",
        "Your goal is to use least mean squares regression to identify the coefficients for the following three models using automatic differentiation and least mean squares regression. The three models are:\n",
        "\n",
        "1. Quadratic model where $\\mathrm{voltage} = c + r \\cdot \\mathrm{current} + q \\cdot \\mathrm{current}^2$.\n",
        "1. Linear model where $\\mathrm{voltage} = c + r \\cdot \\mathrm{current}$.\n",
        "1. Ohm's law where $\\mathrm{voltage} = r \\cdot \\mathrm{current}$."
      ]
    },
    {
      "cell_type": "code",
      "metadata": {
        "ExecuteTime": {
          "end_time": "2019-02-07T00:58:19.477109Z",
          "start_time": "2019-02-07T00:58:19.468122Z"
        },
        "collapsed": true,
        "id": "ZHnXV38FPQ4U"
      },
      "source": [
        "current = [1.5420291, 1.8935232, 2.1603365, 2.5381863, 2.893443, \\\n",
        "                    3.838855, 3.925425, 4.2233696, 4.235571, 4.273397, \\\n",
        "                    4.9332876, 6.4704757, 6.517571, 6.87826, 7.0009003, \\\n",
        "                    7.035741, 7.278681, 7.7561755, 9.121138, 9.728281]\n",
        "current=torch.tensor(current,requires_grad=True).reshape((20,1))\n",
        "voltage = [63.802246, 80.036026, 91.4903, 108.28776, 122.781975, \\\n",
        "                    161.36314, 166.50816, 176.16772, 180.29395, 179.09758, \\\n",
        "                    206.21027, 272.71857, 272.24033, 289.54745, 293.8488, \\\n",
        "                    295.2281, 306.62274, 327.93243, 383.16296, 408.65967]\n",
        "voltage=torch.tensor(voltage,requires_grad=True).reshape((20,1))"
      ],
      "execution_count": 14,
      "outputs": []
    },
    {
      "cell_type": "code",
      "metadata": {
        "id": "ADy1xtVR1RRS"
      },
      "source": [
        "def fit_model(X,y,model):\n",
        "  eps=10\n",
        "  trainer=torch.optim.SGD(model.parameters(),lr=0.01)\n",
        "  l=torch.tensor([1000])\n",
        "  loss_fn=nn.MSELoss()\n",
        "  while l.item()>eps:\n",
        "    loss=loss_fn(model(X),y)\n",
        "    trainer.zero_grad()\n",
        "    loss.backward(retain_graph=True)\n",
        "    trainer.step()\n",
        "    l=loss_fn(model(X),y)\n",
        "  return model"
      ],
      "execution_count": 15,
      "outputs": []
    },
    {
      "cell_type": "code",
      "metadata": {
        "id": "sDXVtXryF_m7"
      },
      "source": [
        "# model 1. quadratic model\n",
        "j=torch.arange(1,3,1)\n",
        "d=current.shape[0]\n",
        "current_quad=current.reshape((d,1)).broadcast_to((d,2))**j\n",
        "current_quad.requires_grad_(True)\n",
        "\n",
        "quad_model=nn.Sequential(nn.Linear(2,1))\n",
        "quad_model[0].weight.data.normal_(0,0.01)\n",
        "quad_model[0].bias.data.fill_(0)\n",
        "quad_model=fit_model(current_quad,voltage,quad_model)\n",
        "\n",
        "w=quad_model[0].weight.data\n",
        "print('weight =',w)\n",
        "b=quad_model[0].bias.data\n",
        "print('bias =',b)"
      ],
      "execution_count": null,
      "outputs": []
    },
    {
      "cell_type": "code",
      "metadata": {
        "id": "mQeflZoU3Cd0"
      },
      "source": [
        "# model 2. linear model\n",
        "linear_model=nn.Sequential(nn.Linear(1,1))\n",
        "linear_model[0].weight.data.normal_(0,0.01)\n",
        "linear_model[0].bias.data.fill_(0)\n",
        "linear_model=fit_model(current,voltage,linear_model)\n",
        "\n",
        "w=linear_model[0].weight.data\n",
        "print('weight =',w)\n",
        "b=linear_model[0].bias.data\n",
        "print('bias =',b)"
      ],
      "execution_count": null,
      "outputs": []
    },
    {
      "cell_type": "code",
      "metadata": {
        "id": "kubFpwhjELYQ"
      },
      "source": [
        "# model 3. ohm's law\n",
        "ohm_model=nn.Sequential(nn.Linear(1,1,bias=False))\n",
        "ohm_model[0].weight.data.normal_(0,0.01)\n",
        "ohm_model=fit_model(current,voltage,ohm_model)\n",
        "\n",
        "w=ohm_model[0].weight.data\n",
        "print('weight =',w)"
      ],
      "execution_count": null,
      "outputs": []
    },
    {
      "cell_type": "markdown",
      "metadata": {
        "id": "tTDsWFb_DmVY"
      },
      "source": [
        ""
      ]
    },
    {
      "cell_type": "markdown",
      "metadata": {
        "id": "nRZCwPAdPQ4U"
      },
      "source": [
        "# 4. Entropy\n",
        "\n",
        "Let's compute the *binary* entropy of a number of interesting data sources. \n",
        "\n",
        "1. Assume that you're watching the output generated by a [monkey at a typewriter](https://en.wikipedia.org/wiki/File:Chimpanzee_seated_at_typewriter.jpg). The monkey presses any of the $44$ keys of the typewriter at random (you can assume that it has not discovered any special keys or the shift key yet). How many bits of randomness per character do you observe?\n",
        "1. Unhappy with the monkey you replaced it by a drunk typesetter. It is able to generate words, albeit not coherently. Instead, it picks a random word out of a vocabulary of $2,000$ words. Moreover, assume that the average length of a word is $4.5$ letters in English. How many bits of randomness do you observe now?\n",
        "1. Still unhappy with the result you replace the typesetter by a high quality language model. These can obtain perplexity numbers as low as 20 points per character. The perplexity is defined as a length normalized probability, i.e.\n",
        "\n",
        "$$\\mathrm{PPL}(x) = \\left[p(x)\\right]^{1/\\mathrm{length}(x)}$$"
      ]
    },
    {
      "cell_type": "markdown",
      "metadata": {
        "id": "qt8C8AtvPQ4U"
      },
      "source": [
        "# 5. Wien's Approximation for the Temperature (bonus)\n",
        "\n",
        "We will now abuse Gluon to estimate the temperature of a black body. The energy emanated from a black body is given by Wien's approximation.\n",
        "\n",
        "$$B_\\lambda(T) = \\frac{2 h c^2}{\\lambda^5} \\exp\\left(-\\frac{h c}{\\lambda k T}\\right)$$\n",
        "\n",
        "That is, the amount of energy depends on the fifth power of the wavelength $\\lambda$ and the temperature $T$ of the body. The latter ensures a cutoff beyond a temperature-characteristic peak. Let us define this and plot it."
      ]
    },
    {
      "cell_type": "code",
      "metadata": {
        "ExecuteTime": {
          "end_time": "2019-02-07T00:58:19.805358Z",
          "start_time": "2019-02-07T00:58:19.479818Z"
        },
        "id": "2QRiqey2PQ4V",
        "outputId": "8230e842-a2a8-4945-f6f8-8491a5b64d6f"
      },
      "source": [
        "# Lightspeed\n",
        "c = 299792458\n",
        "# Planck's constant\n",
        "h = 6.62607004e-34\n",
        "# Boltzmann constant\n",
        "k = 1.38064852e-23\n",
        "# Wavelength scale (nanometers)\n",
        "lamscale = 1e-6\n",
        "# Pulling out all powers of 10 upfront\n",
        "p_out = 2 * h * c**2 / lamscale**5\n",
        "p_in = (h / k) * (c/lamscale) \n",
        "\n",
        "# Wien's law\n",
        "def wien(lam, t):\n",
        "    return (p_out / lam**5) * nd.exp(-p_in / (lam * t))\n",
        "\n",
        "# Plot the radiance for a few different temperatures\n",
        "lam = nd.arange(0,100,0.01)\n",
        "for t in [10, 100, 150, 200, 250, 300, 350]:\n",
        "    radiance = wien(lam, t)\n",
        "    plt.plot(lam.asnumpy(), radiance.asnumpy(), label=('T=' + str(t) + 'K'))\n",
        "plt.legend()\n",
        "plt.show()"
      ],
      "execution_count": null,
      "outputs": [
        {
          "output_type": "display_data",
          "data": {
            "image/png": "[encoded data removed]",
            "text/plain": [
              "<matplotlib.figure.Figure at 0x11a0be8d0>"
            ]
          },
          "metadata": {
            "tags": []
          }
        }
      ]
    },
    {
      "cell_type": "markdown",
      "metadata": {
        "id": "PHq-dBs-PQ4W"
      },
      "source": [
        "Next we assume that we are a fearless physicist measuring some data. Of course, we need to pretend that we don't really know the temperature. But we measure the radiation at a few wavelengths.  "
      ]
    },
    {
      "cell_type": "code",
      "metadata": {
        "ExecuteTime": {
          "end_time": "2019-02-07T00:58:20.063122Z",
          "start_time": "2019-02-07T00:58:19.808000Z"
        },
        "id": "gPyapDNrPQ4W",
        "outputId": "bb33e68e-422b-4ce7-e465-80558d66a3dd"
      },
      "source": [
        "# real temperature is approximately 0C\n",
        "realtemp = 273\n",
        "# we observe at 3000nm up to 20,000nm wavelength\n",
        "wavelengths = nd.arange(3,20,2)\n",
        "# our infrared filters are pretty lousy ...\n",
        "delta = nd.random_normal(shape=(len(wavelengths))) * 1\n",
        "\n",
        "radiance = wien(wavelengths + delta,realtemp)\n",
        "plt.plot(wavelengths.asnumpy(), radiance.asnumpy(), label='measured')\n",
        "plt.plot(wavelengths.asnumpy(), wien(wavelengths, realtemp).asnumpy(), label='true')\n",
        "plt.legend()\n",
        "plt.show()"
      ],
      "execution_count": null,
      "outputs": [
        {
          "output_type": "display_data",
          "data": {
            "image/png": "[encoded data removed]",
            "text/plain": [
              "<matplotlib.figure.Figure at 0x10e76af60>"
            ]
          },
          "metadata": {
            "tags": []
          }
        }
      ]
    },
    {
      "cell_type": "markdown",
      "metadata": {
        "ExecuteTime": {
          "end_time": "2019-01-29T19:41:18.204791Z",
          "start_time": "2019-01-29T19:41:18.201091Z"
        },
        "id": "EQJGkj_rPQ4W"
      },
      "source": [
        "Use Gluon to estimate the real temperature based on the variables `wavelengths` and `radiance`. \n",
        "\n",
        "* You can use Wien's law implementation `wien(lam,t)` as your forward model. \n",
        "* Use the loss function $l(y,y') = (\\log y - \\log y')^2$ to measure accuracy."
      ]
    }
  ]
}